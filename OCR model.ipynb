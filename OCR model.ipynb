{
 "cells": [
  {
   "cell_type": "code",
   "execution_count": 1,
   "metadata": {
    "id": "WZ-W6jcnWXQV"
   },
   "outputs": [],
   "source": [
    "import os\n",
    "os.environ['TF_CPP_MIN_LOG_LEVEL'] = '3'\n",
    "import tensorflow as tf\n",
    "from tensorflow import keras\n",
    "from tensorflow.keras import layers\n",
    "from tensorflow.keras.layers import Flatten, Dense,Dropout\n",
    "from tensorflow.keras.utils import to_categorical\n",
    "from tensorflow.keras.utils import img_to_array\n",
    "from tensorflow.keras.utils import load_img\n",
    "from sklearn.model_selection import train_test_split\n",
    "import matplotlib.pyplot as plt\n",
    "import numpy as np"
   ]
  },
  {
   "cell_type": "code",
   "execution_count": 2,
   "metadata": {
    "id": "Q2V13NpZWqEw"
   },
   "outputs": [],
   "source": [
    "# Defining path of the training data\n",
    "dataset_paths = \"\\\\Users\\\\Yash\\\\Desktop\\\\GAIP\\\\dataset_characters\""
   ]
  },
  {
   "cell_type": "code",
   "execution_count": 3,
   "metadata": {
    "id": "xrc_aZ6SYXhI"
   },
   "outputs": [
    {
     "name": "stdout",
     "output_type": "stream",
     "text": [
      "0\n",
      "1\n",
      "2\n",
      "3\n",
      "4\n",
      "5\n",
      "6\n",
      "7\n",
      "8\n",
      "9\n",
      "A\n",
      "B\n",
      "C\n",
      "D\n",
      "E\n",
      "F\n",
      "G\n",
      "H\n",
      "I\n",
      "J\n",
      "K\n",
      "L\n",
      "M\n",
      "N\n",
      "O\n",
      "P\n",
      "Q\n",
      "R\n",
      "S\n",
      "T\n",
      "U\n",
      "V\n",
      "W\n",
      "X\n",
      "Y\n",
      "Z\n"
     ]
    }
   ],
   "source": [
    "X=[]\n",
    "label=[]\n",
    "# print (dataset_paths)\n",
    "i=0\n",
    "for f in os.listdir(dataset_paths):\n",
    "  file_path = dataset_paths+\"\\\\\"+f #f == '0','1' etc\n",
    "  print(f)\n",
    "  for fn in os.listdir(file_path):\n",
    "    # print(fn)\n",
    "    label.append(f)\n",
    "    # print(labels[i])\n",
    "    i = i+1\n",
    "    img_path = file_path + \"\\\\\" + fn\n",
    "    img = load_img(img_path,target_size=(80,80))\n",
    "    image=img_to_array(img)\n",
    "    X.append(image) #X contains the images as numpy"
   ]
  },
  {
   "cell_type": "code",
   "execution_count": 6,
   "metadata": {
    "colab": {
     "base_uri": "https://localhost:8080/"
    },
    "id": "lYJVMreshVaY",
    "outputId": "193dda67-36ef-49eb-d8c5-1060138b0d07"
   },
   "outputs": [
    {
     "data": {
      "text/plain": [
       "37623"
      ]
     },
     "execution_count": 6,
     "metadata": {},
     "output_type": "execute_result"
    }
   ],
   "source": [
    "len(labels)"
   ]
  },
  {
   "cell_type": "code",
   "execution_count": 4,
   "metadata": {
    "colab": {
     "base_uri": "https://localhost:8080/",
     "height": 747
    },
    "id": "cw7oe_YYkEV-",
    "outputId": "64008741-dc82-4cc1-896b-bc45af13040a"
   },
   "outputs": [
    {
     "name": "stderr",
     "output_type": "stream",
     "text": [
      "Clipping input data to the valid range for imshow with RGB data ([0..1] for floats or [0..255] for integers).\n",
      "Clipping input data to the valid range for imshow with RGB data ([0..1] for floats or [0..255] for integers).\n",
      "Clipping input data to the valid range for imshow with RGB data ([0..1] for floats or [0..255] for integers).\n",
      "Clipping input data to the valid range for imshow with RGB data ([0..1] for floats or [0..255] for integers).\n",
      "Clipping input data to the valid range for imshow with RGB data ([0..1] for floats or [0..255] for integers).\n",
      "Clipping input data to the valid range for imshow with RGB data ([0..1] for floats or [0..255] for integers).\n",
      "Clipping input data to the valid range for imshow with RGB data ([0..1] for floats or [0..255] for integers).\n",
      "Clipping input data to the valid range for imshow with RGB data ([0..1] for floats or [0..255] for integers).\n",
      "Clipping input data to the valid range for imshow with RGB data ([0..1] for floats or [0..255] for integers).\n"
     ]
    },
    {
     "data": {
      "image/png": "[encoded data removed]",
      "text/plain": [
       "<Figure size 720x720 with 9 Axes>"
      ]
     },
     "metadata": {
      "needs_background": "light"
     },
     "output_type": "display_data"
    }
   ],
   "source": [
    "import random\n",
    "plt.figure(figsize=(10, 10))\n",
    "j=1000\n",
    "for j in range(9):\n",
    "    r = random.randint(0,30000)\n",
    "    ax = plt.subplot(3, 3, j + 1)\n",
    "    plt.imshow(X[r])\n",
    "    plt.title(label[r])\n",
    "    plt.axis(\"off\")"
   ]
  },
  {
   "cell_type": "code",
   "execution_count": 6,
   "metadata": {},
   "outputs": [],
   "source": [
    "classes={'0':0, '1':1, '2':2,\n",
    " '3':3, '4':4, '5':5, '6':6, '7':7, '8':8, '9':9, 'A':10, 'B':11, 'C':12, 'D':13, 'E':14, 'F':15, 'G':16, 'H':17, 'I':18, 'J':19, 'K':20, 'L':21,\n",
    " 'M':22, 'N':23, 'O':24, 'P':25, 'Q':26, 'R':27, 'S':28, 'T':29, 'U':30, 'V':31, 'W':32, 'X':33, 'Y':34, 'Z':35}\n",
    "labels=[]\n",
    "random_n = 21\n",
    "for i in range(len(label)):\n",
    "    key = label[i]\n",
    "    p = classes.get(key)\n",
    "    labels.append(p)\n",
    "                  \n",
    "                  \n",
    "                  \n",
    "                  \n",
    "#print(key)\n",
    "\n",
    "# plt.imshow(X_train[random_n])"
   ]
  },
  {
   "cell_type": "code",
   "execution_count": null,
   "metadata": {
    "colab": {
     "base_uri": "https://localhost:8080/"
    },
    "id": "CeqMl1IMF8lC",
    "outputId": "9c92f911-1ac7-4e5b-e97b-2ed462280343"
   },
   "outputs": [],
   "source": [
    "np.shape(X)"
   ]
  },
  {
   "cell_type": "code",
   "execution_count": null,
   "metadata": {
    "id": "0cCHDI1DnlHv"
   },
   "outputs": [],
   "source": [
    "import pandas as pd\n",
    "from sklearn import datasets, linear_model\n",
    "from sklearn.model_selection import train_test_split"
   ]
  },
  {
   "cell_type": "code",
   "execution_count": 7,
   "metadata": {
    "colab": {
     "base_uri": "https://localhost:8080/"
    },
    "id": "Kx7DQ9-qn1la",
    "outputId": "d493d133-759c-47ce-8293-03dd39765b62"
   },
   "outputs": [
    {
     "name": "stdout",
     "output_type": "stream",
     "text": [
      "(30098, 80, 80, 3) (30098,)\n",
      "(7525, 80, 80, 3) (7525,)\n"
     ]
    }
   ],
   "source": [
    "X_train, X_test, y_train, y_test = train_test_split(X, labels, test_size=0.2)\n",
    "print(np.shape(X_train), np.shape(y_train))\n",
    "print(np.shape(X_test), np.shape(y_test))"
   ]
  },
  {
   "cell_type": "code",
   "execution_count": 30,
   "metadata": {
    "colab": {
     "base_uri": "https://localhost:8080/",
     "height": 303
    },
    "id": "OZRshZ6QtB6J",
    "outputId": "892acd5c-3200-43d6-b567-b906a0a0b9d9"
   },
   "outputs": [
    {
     "name": "stderr",
     "output_type": "stream",
     "text": [
      "Clipping input data to the valid range for imshow with RGB data ([0..1] for floats or [0..255] for integers).\n"
     ]
    },
    {
     "name": "stdout",
     "output_type": "stream",
     "text": [
      "24520\n",
      "22\n"
     ]
    },
    {
     "data": {
      "image/png": "[encoded data removed]",
      "text/plain": [
       "<Figure size 432x288 with 1 Axes>"
      ]
     },
     "metadata": {
      "needs_background": "light"
     },
     "output_type": "display_data"
    }
   ],
   "source": [
    "r = random.randint(0,30000)\n",
    "print(r)\n",
    "plt.imshow(X_train[r])\n",
    "print(y_train[r]) "
   ]
  },
  {
   "cell_type": "code",
   "execution_count": 24,
   "metadata": {
    "id": "qIFWLuah86z-"
   },
   "outputs": [],
   "source": [
    "np.save('data_f.npy', X) # save\n",
    "np.save('labels_final',labels)\n",
    "X = np.load('data_f.npy') # load\n",
    "labels = np.load('labels_final.npy')"
   ]
  },
  {
   "cell_type": "code",
   "execution_count": 12,
   "metadata": {
    "colab": {
     "base_uri": "https://localhost:8080/",
     "height": 320
    },
    "id": "sRLo3lnQGKhs",
    "outputId": "e4b111af-70a7-45cc-9cbc-0a1b02e7d793"
   },
   "outputs": [
    {
     "name": "stderr",
     "output_type": "stream",
     "text": [
      "Clipping input data to the valid range for imshow with RGB data ([0..1] for floats or [0..255] for integers).\n"
     ]
    },
    {
     "name": "stdout",
     "output_type": "stream",
     "text": [
      "None\n"
     ]
    },
    {
     "data": {
      "text/plain": [
       "<matplotlib.image.AxesImage at 0x2871cecc5e0>"
      ]
     },
     "execution_count": 12,
     "metadata": {},
     "output_type": "execute_result"
    },
    {
     "data": {
      "image/png": "[encoded data removed]",
      "text/plain": [
       "<Figure size 432x288 with 1 Axes>"
      ]
     },
     "metadata": {
      "needs_background": "light"
     },
     "output_type": "display_data"
    }
   ],
   "source": [
    "classes={'0':0, '1':1, '2':2,\n",
    " '3':3, '4':4, '5':5, '6':6, '7':7, '8':8, '9':9, 'A':10, 'B':11, 'C':12, 'D':13, 'E':14, 'F':15, 'G':16, 'H':17, 'I':18, 'J':19, 'K':20, 'L':21,\n",
    " 'M':22, 'N':23, 'O':24, 'P':25, 'Q':26, 'R':27, 'S':28, 'T':29, 'U':30, 'V':31, 'W':32, 'X':33, 'Y':34, 'Z':35}\n",
    "\n",
    "random_n = 234\n",
    "key = y_train[random_n]\n",
    "#print(key)\n",
    "p = classes.get(key)\n",
    "print(p)\n",
    "plt.imshow(X_train[random_n])"
   ]
  },
  {
   "cell_type": "code",
   "execution_count": 43,
   "metadata": {
    "id": "FJvXSF4IJcvF"
   },
   "outputs": [],
   "source": [
    "batch_size = 10\n",
    "img_height = 80\n",
    "img_width = 80"
   ]
  },
  {
   "cell_type": "code",
   "execution_count": 44,
   "metadata": {
    "id": "EWHykICSXgWT"
   },
   "outputs": [],
   "source": [
    "# # defining hyperparameters for Model 4.0\n",
    "hidden_units = 128\n",
    "hp_epoch = 15\n",
    "batch_size = 250\n",
    "lr = float(1/10) \n",
    "# # initial_learning_rate \n",
    "# # v = u + at \n",
    "# # final_lr = initial_lr + decay*time\n",
    "# #  0 = initial_lr - batch_size/37623 *15\n",
    "# # 0 = init_lr - 1/10"
   ]
  },
  {
   "cell_type": "code",
   "execution_count": 45,
   "metadata": {
    "id": "YSYHlJQSW5tj"
   },
   "outputs": [],
   "source": [
    "l0 = layers.Rescaling(1./255, input_shape=(img_height, img_width, 3))\n",
    "l1 = Flatten()\n",
    "l2 = Dense(hidden_units, activation = tf.nn.relu)\n",
    "l3 = Dropout(0.4)\n",
    "l4 = Dense(64, activation = tf.nn.relu)\n",
    "l5 = Dense(36, activation = tf.nn.softmax)\n",
    "m4 = keras.models.Sequential(\n",
    "    [l0,l1, l2, l3, l4, l5]\n",
    ")"
   ]
  },
  {
   "cell_type": "code",
   "execution_count": 46,
   "metadata": {
    "colab": {
     "base_uri": "https://localhost:8080/"
    },
    "id": "CwN5L5MpGJ-9",
    "outputId": "4adc28bf-bfaf-4b0c-e641-fdceb7addb44"
   },
   "outputs": [
    {
     "name": "stdout",
     "output_type": "stream",
     "text": [
      "Model: \"sequential_1\"\n",
      "_________________________________________________________________\n",
      " Layer (type)                Output Shape              Param #   \n",
      "=================================================================\n",
      " rescaling_1 (Rescaling)     (None, 80, 80, 3)         0         \n",
      "                                                                 \n",
      " flatten_1 (Flatten)         (None, 19200)             0         \n",
      "                                                                 \n",
      " dense_3 (Dense)             (None, 128)               2457728   \n",
      "                                                                 \n",
      " dropout_1 (Dropout)         (None, 128)               0         \n",
      "                                                                 \n",
      " dense_4 (Dense)             (None, 64)                8256      \n",
      "                                                                 \n",
      " dense_5 (Dense)             (None, 36)                2340      \n",
      "                                                                 \n",
      "=================================================================\n",
      "Total params: 2,468,324\n",
      "Trainable params: 2,468,324\n",
      "Non-trainable params: 0\n",
      "_________________________________________________________________\n"
     ]
    }
   ],
   "source": [
    "m4.summary()"
   ]
  },
  {
   "cell_type": "code",
   "execution_count": 47,
   "metadata": {
    "id": "NeF75j9mYFWV"
   },
   "outputs": [],
   "source": [
    "m4.compile(loss=tf.keras.losses.SparseCategoricalCrossentropy(from_logits=False),\n",
    "           optimizer='adam',\n",
    "           metrics=[\"accuracy\"])"
   ]
  },
  {
   "cell_type": "code",
   "execution_count": 48,
   "metadata": {},
   "outputs": [
    {
     "name": "stdout",
     "output_type": "stream",
     "text": [
      "Num GPUs Available:  0\n"
     ]
    }
   ],
   "source": [
    "print(\"Num GPUs Available: \", len(tf.config.list_physical_devices('GPU')))"
   ]
  },
  {
   "cell_type": "code",
   "execution_count": 49,
   "metadata": {
    "colab": {
     "base_uri": "https://localhost:8080/",
     "height": 346
    },
    "id": "9zouvO7PYF66",
    "outputId": "8c2be14c-bae4-47be-848a-f7e0fe8eb9d6"
   },
   "outputs": [
    {
     "name": "stdout",
     "output_type": "stream",
     "text": [
      "Epoch 1/15\n",
      "300/300 [==============================] - 6s 20ms/step - loss: 3.0944 - accuracy: 0.1937\n",
      "Epoch 2/15\n",
      "300/300 [==============================] - 6s 19ms/step - loss: 2.0873 - accuracy: 0.4057\n",
      "Epoch 3/15\n",
      "300/300 [==============================] - 6s 19ms/step - loss: 1.7574 - accuracy: 0.4980\n",
      "Epoch 4/15\n",
      "300/300 [==============================] - 6s 19ms/step - loss: 1.5177 - accuracy: 0.5587\n",
      "Epoch 5/15\n",
      "300/300 [==============================] - 6s 19ms/step - loss: 1.4191 - accuracy: 0.5830\n",
      "Epoch 6/15\n",
      "300/300 [==============================] - 6s 19ms/step - loss: 1.4095 - accuracy: 0.5860\n",
      "Epoch 7/15\n",
      "300/300 [==============================] - 6s 19ms/step - loss: 1.2306 - accuracy: 0.6360\n",
      "Epoch 8/15\n",
      "300/300 [==============================] - 6s 19ms/step - loss: 1.2152 - accuracy: 0.6383\n",
      "Epoch 9/15\n",
      "300/300 [==============================] - 6s 19ms/step - loss: 1.1821 - accuracy: 0.6467\n",
      "Epoch 10/15\n",
      "300/300 [==============================] - 6s 19ms/step - loss: 1.2089 - accuracy: 0.6340\n",
      "Epoch 11/15\n",
      "300/300 [==============================] - 6s 19ms/step - loss: 1.1492 - accuracy: 0.6580\n",
      "Epoch 12/15\n",
      "300/300 [==============================] - 6s 18ms/step - loss: 1.0327 - accuracy: 0.6820\n",
      "Epoch 13/15\n",
      "300/300 [==============================] - 6s 18ms/step - loss: 1.0232 - accuracy: 0.6887\n",
      "Epoch 14/15\n",
      "300/300 [==============================] - 6s 19ms/step - loss: 1.0234 - accuracy: 0.6897\n",
      "Epoch 15/15\n",
      "300/300 [==============================] - 6s 19ms/step - loss: 1.0350 - accuracy: 0.6843\n"
     ]
    }
   ],
   "source": [
    "# history_4 =m4.fit(X_train, y_train, batch_size= batch_size, epochs=hp_epoch)\n",
    "train_x = np.asarray(X_train)\n",
    "train_y = np.asarray(y_train)\n",
    "# train_y =train_y_1.astype('int')\n",
    "# train_x = train_x/255.0\n",
    "# # train_y = train_y/255.0\n",
    "history_4 =m4.fit(train_x[0:3000], train_y[0:3000], batch_size= 10, epochs=15)\n",
    "# history_4 =m4.fit(X_train[0:3000], y_train[0:3000], batch_size= 10, epochs=15)"
   ]
  },
  {
   "cell_type": "code",
   "execution_count": 52,
   "metadata": {},
   "outputs": [
    {
     "name": "stdout",
     "output_type": "stream",
     "text": [
      "Epoch 1/20\n",
      "121/121 [==============================] - 14s 119ms/step - loss: 0.8914 - accuracy: 0.7398\n",
      "Epoch 2/20\n",
      "121/121 [==============================] - 14s 118ms/step - loss: 0.8725 - accuracy: 0.7486\n",
      "Epoch 3/20\n",
      "121/121 [==============================] - 14s 117ms/step - loss: 0.8474 - accuracy: 0.7542\n",
      "Epoch 4/20\n",
      "121/121 [==============================] - 14s 120ms/step - loss: 0.8070 - accuracy: 0.7644\n",
      "Epoch 5/20\n",
      "121/121 [==============================] - 14s 118ms/step - loss: 0.7813 - accuracy: 0.7689\n",
      "Epoch 6/20\n",
      "121/121 [==============================] - 14s 117ms/step - loss: 0.7541 - accuracy: 0.7780\n",
      "Epoch 7/20\n",
      "121/121 [==============================] - 14s 115ms/step - loss: 0.7313 - accuracy: 0.7839\n",
      "Epoch 8/20\n",
      "121/121 [==============================] - 14s 117ms/step - loss: 0.7183 - accuracy: 0.7879\n",
      "Epoch 9/20\n",
      "121/121 [==============================] - 14s 117ms/step - loss: 0.6971 - accuracy: 0.7932\n",
      "Epoch 10/20\n",
      "121/121 [==============================] - 14s 120ms/step - loss: 0.6823 - accuracy: 0.7955\n",
      "Epoch 11/20\n",
      "121/121 [==============================] - 14s 115ms/step - loss: 0.6609 - accuracy: 0.8014\n",
      "Epoch 12/20\n",
      "121/121 [==============================] - 14s 117ms/step - loss: 0.6456 - accuracy: 0.8075\n",
      "Epoch 13/20\n",
      "121/121 [==============================] - 14s 112ms/step - loss: 0.6225 - accuracy: 0.8135\n",
      "Epoch 14/20\n",
      "121/121 [==============================] - 14s 112ms/step - loss: 0.6125 - accuracy: 0.8139\n",
      "Epoch 15/20\n",
      "121/121 [==============================] - 14s 113ms/step - loss: 0.6020 - accuracy: 0.8191\n",
      "Epoch 16/20\n",
      "121/121 [==============================] - 14s 112ms/step - loss: 0.5903 - accuracy: 0.8220\n",
      "Epoch 17/20\n",
      "121/121 [==============================] - 14s 112ms/step - loss: 0.5746 - accuracy: 0.8250\n",
      "Epoch 18/20\n",
      "121/121 [==============================] - 14s 112ms/step - loss: 0.5690 - accuracy: 0.8247\n",
      "Epoch 19/20\n",
      "121/121 [==============================] - 13s 111ms/step - loss: 0.5441 - accuracy: 0.8322\n",
      "Epoch 20/20\n",
      "121/121 [==============================] - 14s 115ms/step - loss: 0.5348 - accuracy: 0.8353\n"
     ]
    }
   ],
   "source": [
    "history_4_1 =m4.fit(train_x, train_y, batch_size= 250, epochs=20)"
   ]
  },
  {
   "cell_type": "code",
   "execution_count": 53,
   "metadata": {
    "id": "qNozaHlQy8Ct"
   },
   "outputs": [],
   "source": [
    "m4.save(\"Model_4_1.h5\")"
   ]
  },
  {
   "cell_type": "code",
   "execution_count": null,
   "metadata": {},
   "outputs": [],
   "source": []
  }
 ],
 "metadata": {
  "accelerator": "GPU",
  "colab": {
   "name": "Model 4.0.ipynb",
   "provenance": []
  },
  "gpuClass": "standard",
  "kernelspec": {
   "display_name": "Python 3 (ipykernel)",
   "language": "python",
   "name": "python3"
  },
  "language_info": {
   "codemirror_mode": {
    "name": "ipython",
    "version": 3
   },
   "file_extension": ".py",
   "mimetype": "text/x-python",
   "name": "python",
   "nbconvert_exporter": "python",
   "pygments_lexer": "ipython3",
   "version": "3.9.12"
  }
 },
 "nbformat": 4,
 "nbformat_minor": 4
}
